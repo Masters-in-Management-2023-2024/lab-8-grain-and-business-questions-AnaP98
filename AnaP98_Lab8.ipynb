{
  "cells": [
    {
      "cell_type": "markdown",
      "metadata": {
        "id": "jVTojVXl-u2_"
      },
      "source": [
        "# Diamond Company Analytics Challenge\n",
        "\n",
        "**Time:** 35 minutes\n",
        "\n",
        "**Scenario:** You are the new data analyst at a prestigious diamond company. The CEO has called an urgent meeting and needs answers to critical business questions about the inventory.\n",
        "\n",
        "**Your Mission:** Analyze the diamond inventory data and provide insights to guide strategic decisions."
      ]
    },
    {
      "cell_type": "code",
      "execution_count": 15,
      "metadata": {
        "colab": {
          "base_uri": "https://localhost:8080/"
        },
        "id": "L0hAH8f0-u3A",
        "outputId": "9d82fe3a-5393-4cc5-846b-b528490ab2e4"
      },
      "outputs": [
        {
          "output_type": "stream",
          "name": "stdout",
          "text": [
            "Loading diamonds dataset...\n",
            "Dataset loaded successfully!\n"
          ]
        }
      ],
      "source": [
        "import polars as pl\n",
        "\n",
        "# Load the diamonds dataset\n",
        "print(\"Loading diamonds dataset...\")\n",
        "df = pl.read_csv('https://raw.githubusercontent.com/pycaret/pycaret/master/datasets/diamond.csv')\n",
        "print(\"Dataset loaded successfully!\")"
      ]
    },
    {
      "cell_type": "markdown",
      "metadata": {
        "id": "2udRH7CC-u3A"
      },
      "source": [
        "## Section 1: Initial Inventory Assessment (5 minutes)\n",
        "\n",
        "The CEO walks in: \"Before we dive into specifics, I need to understand what we're working with. Give me the basics about our inventory database.\""
      ]
    },
    {
      "cell_type": "markdown",
      "metadata": {
        "id": "qK-IPAf8-u3B"
      },
      "source": [
        "### Question 1: \"How extensive is our inventory database?\"\n",
        "\n",
        "The CEO needs to know the scale of data you're analyzing."
      ]
    },
    {
      "cell_type": "code",
      "execution_count": 16,
      "metadata": {
        "colab": {
          "base_uri": "https://localhost:8080/"
        },
        "id": "hRh_cOlQ-u3B",
        "outputId": "6be0a7ee-2905-4c25-d83d-6f4878c8c418"
      },
      "outputs": [
        {
          "output_type": "stream",
          "name": "stdout",
          "text": [
            "Shape: (6000, 8)\n",
            "Columns: ['Carat Weight', 'Cut', 'Color', 'Clarity', 'Polish', 'Symmetry', 'Report', 'Price']\n",
            "Dtypes: [Float64, String, String, String, String, String, String, Int64]\n",
            "Summary: shape: (9, 9)\n",
            "┌────────────┬──────────────┬───────────┬───────┬───┬────────┬──────────┬────────┬──────────────┐\n",
            "│ statistic  ┆ Carat Weight ┆ Cut       ┆ Color ┆ … ┆ Polish ┆ Symmetry ┆ Report ┆ Price        │\n",
            "│ ---        ┆ ---          ┆ ---       ┆ ---   ┆   ┆ ---    ┆ ---      ┆ ---    ┆ ---          │\n",
            "│ str        ┆ f64          ┆ str       ┆ str   ┆   ┆ str    ┆ str      ┆ str    ┆ f64          │\n",
            "╞════════════╪══════════════╪═══════════╪═══════╪═══╪════════╪══════════╪════════╪══════════════╡\n",
            "│ count      ┆ 6000.0       ┆ 6000      ┆ 6000  ┆ … ┆ 6000   ┆ 6000     ┆ 6000   ┆ 6000.0       │\n",
            "│ null_count ┆ 0.0          ┆ 0         ┆ 0     ┆ … ┆ 0      ┆ 0        ┆ 0      ┆ 0.0          │\n",
            "│ mean       ┆ 1.33452      ┆ null      ┆ null  ┆ … ┆ null   ┆ null     ┆ null   ┆ 11791.579333 │\n",
            "│ std        ┆ 0.475696     ┆ null      ┆ null  ┆ … ┆ null   ┆ null     ┆ null   ┆ 10184.350051 │\n",
            "│ min        ┆ 0.75         ┆ Fair      ┆ D     ┆ … ┆ EX     ┆ EX       ┆ AGSL   ┆ 2184.0       │\n",
            "│ 25%        ┆ 1.0          ┆ null      ┆ null  ┆ … ┆ null   ┆ null     ┆ null   ┆ 5151.0       │\n",
            "│ 50%        ┆ 1.13         ┆ null      ┆ null  ┆ … ┆ null   ┆ null     ┆ null   ┆ 7858.0       │\n",
            "│ 75%        ┆ 1.59         ┆ null      ┆ null  ┆ … ┆ null   ┆ null     ┆ null   ┆ 15031.0      │\n",
            "│ max        ┆ 2.91         ┆ Very Good ┆ I     ┆ … ┆ VG     ┆ VG       ┆ GIA    ┆ 101561.0     │\n",
            "└────────────┴──────────────┴───────────┴───────┴───┴────────┴──────────┴────────┴──────────────┘\n"
          ]
        }
      ],
      "source": [
        "# Your code here:\n",
        "diamonds = df\n",
        "# Explore Inventory:\n",
        "print (f\"Shape: {diamonds.shape}\")\n",
        "print (f\"Columns: {diamonds.columns}\")\n",
        "print (f\"Dtypes: {diamonds.dtypes}\")\n",
        "print (f\"Summary: {diamonds.describe()}\")"
      ]
    },
    {
      "cell_type": "markdown",
      "metadata": {
        "id": "QQVcMF_P-u3B"
      },
      "source": [
        "### Question 2: \"What information do we track about each diamond?\"\n",
        "\n",
        "List all the characteristics we record."
      ]
    },
    {
      "cell_type": "code",
      "execution_count": 17,
      "metadata": {
        "colab": {
          "base_uri": "https://localhost:8080/"
        },
        "id": "VV47WEH4-u3B",
        "outputId": "1f9f97ff-12d1-4482-90c8-1385eae09b90"
      },
      "outputs": [
        {
          "output_type": "stream",
          "name": "stdout",
          "text": [
            "Characteristics tracked for each diamond:\n",
            "- Carat Weight\n",
            "- Cut\n",
            "- Color\n",
            "- Clarity\n",
            "- Polish\n",
            "- Symmetry\n",
            "- Report\n",
            "- Price\n",
            "Columns: ['Carat Weight', 'Cut', 'Color', 'Clarity', 'Polish', 'Symmetry', 'Report', 'Price']\n"
          ]
        }
      ],
      "source": [
        "# Your code here:\n",
        "characteristics = diamonds.columns\n",
        "print(\"Characteristics tracked for each diamond:\")\n",
        "for col in characteristics:\n",
        "    print(f\"- {col}\")\n",
        "\n",
        "# or\n",
        "print (f\"Columns: {diamonds.columns}\")"
      ]
    },
    {
      "cell_type": "markdown",
      "metadata": {
        "id": "m4qMN9Ub-u3B"
      },
      "source": [
        "### Question 3: \"When I look at one line in this database, what am I looking at?\"\n",
        "\n",
        "Explain in business terms:"
      ]
    },
    {
      "cell_type": "markdown",
      "metadata": {
        "id": "D-Eidz3I-u3C"
      },
      "source": [
        "**Your answer:** Each row represents:"
      ]
    },
    {
      "cell_type": "code",
      "source": [
        "print(f\"Total number of rows: {len (df)}\")\n",
        "print(\" Each row represents: ONE DIAMOND\")\n",
        "print(\"This is our current grain: diamond-level data\")"
      ],
      "metadata": {
        "colab": {
          "base_uri": "https://localhost:8080/"
        },
        "id": "HM5b6fp7Bc64",
        "outputId": "808da5cf-84ba-4837-eb6b-319633a6c3bf"
      },
      "execution_count": 18,
      "outputs": [
        {
          "output_type": "stream",
          "name": "stdout",
          "text": [
            "Total number of rows: 6000\n",
            " Each row represents: ONE DIAMOND\n",
            "This is our current grain: diamond-level data\n"
          ]
        }
      ]
    },
    {
      "cell_type": "markdown",
      "metadata": {
        "id": "zpoznST6-u3C"
      },
      "source": [
        "## Section 2: Strategic Business Questions (20 minutes)\n",
        "\n",
        "The CEO continues: \"Now let's get to the important questions. Our board meeting is tomorrow and I need concrete numbers.\""
      ]
    },
    {
      "cell_type": "markdown",
      "metadata": {
        "id": "HGjVEAy3-u3C"
      },
      "source": [
        "### Question 4: \"We're considering expanding our storage facilities. How many total carats do we have in inventory? I need to know if our vaults can handle the weight.\"\n",
        "\n",
        "Think about what measurement would help answer this."
      ]
    },
    {
      "cell_type": "code",
      "execution_count": 24,
      "metadata": {
        "colab": {
          "base_uri": "https://localhost:8080/"
        },
        "id": "0RaE8CDU-u3C",
        "outputId": "28ef5d38-8732-4a50-a322-36ad84df94e3"
      },
      "outputs": [
        {
          "output_type": "stream",
          "name": "stdout",
          "text": [
            "Total number of carats in inventory (Weight): shape: (1, 1)\n",
            "┌──────────────┐\n",
            "│ Carat Weight │\n",
            "│ ---          │\n",
            "│ f64          │\n",
            "╞══════════════╡\n",
            "│ 8007.12      │\n",
            "└──────────────┘\n"
          ]
        }
      ],
      "source": [
        "# Your code here:\n",
        "\n",
        "total_carats_weight = diamonds.select(pl.col(\"Carat Weight\")).sum()\n",
        "print(f\"Total number of carats in inventory (Weight): {total_carats_weight}\")"
      ]
    },
    {
      "cell_type": "markdown",
      "metadata": {
        "id": "qber3Xf8-u3C"
      },
      "source": [
        "### Question 5: \"Our new marketing campaign claims we have 'the widest variety of cuts in the industry.' Can you verify this?\"\n",
        "\n",
        "The CEO wants to know about variety, not quantity."
      ]
    },
    {
      "cell_type": "code",
      "execution_count": 28,
      "metadata": {
        "colab": {
          "base_uri": "https://localhost:8080/"
        },
        "id": "Hk1ptn_0-u3C",
        "outputId": "c3ad9af0-91ac-4844-93b0-587414460a44"
      },
      "outputs": [
        {
          "output_type": "stream",
          "name": "stdout",
          "text": [
            "Number of unique cuts: 5\n",
            "Unique cuts: shape: (5, 1)\n",
            "┌─────────────────┐\n",
            "│ Cut             │\n",
            "│ ---             │\n",
            "│ str             │\n",
            "╞═════════════════╡\n",
            "│ Good            │\n",
            "│ Signature-Ideal │\n",
            "│ Ideal           │\n",
            "│ Fair            │\n",
            "│ Very Good       │\n",
            "└─────────────────┘\n"
          ]
        }
      ],
      "source": [
        "# Your code here:\n",
        "cut_col = \"Cut\"\n",
        "unique_cuts = diamonds.select(pl.col(cut_col)).unique()\n",
        "print(f\"Number of unique cuts: {len(unique_cuts)}\")\n",
        "print(f\"Unique cuts: {unique_cuts}\")"
      ]
    },
    {
      "cell_type": "markdown",
      "metadata": {
        "id": "6nlwvlcw-u3C"
      },
      "source": [
        "### Question 6: \"I'm meeting with our insurance company. They need to know our price exposure - what's our most and least valuable diamond?\""
      ]
    },
    {
      "cell_type": "code",
      "execution_count": 31,
      "metadata": {
        "colab": {
          "base_uri": "https://localhost:8080/"
        },
        "id": "kz28Fquo-u3D",
        "outputId": "f2ddd34f-10b3-431b-dea5-bbca7c109710"
      },
      "outputs": [
        {
          "output_type": "stream",
          "name": "stdout",
          "text": [
            "Most valuable diamond price: 101561\n",
            "Least valuable diamond price: 2184\n"
          ]
        }
      ],
      "source": [
        "# Your code here:\n",
        "max_price = diamonds.select(pl.col(\"Price\")).max().item()\n",
        "min_price = diamonds.select(pl.col(\"Price\")).min().item()\n",
        "print(f\"Most valuable diamond price: {max_price}\")\n",
        "print(f\"Least valuable diamond price: {min_price}\")"
      ]
    },
    {
      "cell_type": "markdown",
      "metadata": {
        "id": "ZoDYrb75-u3D"
      },
      "source": [
        "### Question 7: \"Which color grades should we focus on in our premium line? I need typical prices across our color spectrum.\"\n",
        "\n",
        "The CEO wants to understand pricing patterns."
      ]
    },
    {
      "cell_type": "code",
      "execution_count": 33,
      "metadata": {
        "colab": {
          "base_uri": "https://localhost:8080/"
        },
        "id": "42Rd71o5-u3D",
        "outputId": "fc781311-c391-49a8-a267-c3b2fc4f3f71"
      },
      "outputs": [
        {
          "output_type": "stream",
          "name": "stdout",
          "text": [
            "Typical prices across the color spectrum:\n",
            "shape: (6, 6)\n",
            "┌───────┬───────┬──────────────┬────────┬──────┬────────┐\n",
            "│ Color ┆ count ┆ mean         ┆ median ┆ min  ┆ max    │\n",
            "│ ---   ┆ ---   ┆ ---          ┆ ---    ┆ ---  ┆ ---    │\n",
            "│ str   ┆ u32   ┆ f64          ┆ f64    ┆ i64  ┆ i64    │\n",
            "╞═══════╪═══════╪══════════════╪════════╪══════╪════════╡\n",
            "│ D     ┆ 661   ┆ 15255.783661 ┆ 7567.0 ┆ 2945 ┆ 101561 │\n",
            "│ E     ┆ 778   ┆ 11539.190231 ┆ 7059.5 ┆ 2548 ┆ 67240  │\n",
            "│ F     ┆ 1013  ┆ 12712.241856 ┆ 8860.0 ┆ 2648 ┆ 60188  │\n",
            "│ G     ┆ 1501  ┆ 12520.050633 ┆ 8800.0 ┆ 2579 ┆ 46861  │\n",
            "│ H     ┆ 1079  ┆ 10487.347544 ┆ 7169.0 ┆ 2396 ┆ 36709  │\n",
            "│ I     ┆ 968   ┆ 8989.636364  ┆ 6655.0 ┆ 2184 ┆ 31254  │\n",
            "└───────┴───────┴──────────────┴────────┴──────┴────────┘\n"
          ]
        },
        {
          "output_type": "stream",
          "name": "stderr",
          "text": [
            "/tmp/ipython-input-3077240734.py:9: DeprecationWarning: `pl.count()` is deprecated. Please use `pl.len()` instead.\n",
            "  pl.count().alias('count'),\n"
          ]
        }
      ],
      "source": [
        "# Your code here:\n",
        "color_col = \"Color\"\n",
        "price_col = \"Price\"\n",
        "\n",
        "\n",
        "color_stats = (\n",
        "    df.group_by(color_col)\n",
        "      .agg([\n",
        "          pl.count().alias('count'),\n",
        "          pl.mean(price_col).alias('mean'),\n",
        "          pl.median(price_col).alias('median'),\n",
        "          pl.min(price_col).alias('min'),\n",
        "          pl.max(price_col).alias('max')\n",
        "      ])\n",
        "      .sort(color_col)\n",
        ")\n",
        "\n",
        "\n",
        "print(\"Typical prices across the color spectrum:\")\n",
        "print(color_stats)"
      ]
    },
    {
      "cell_type": "markdown",
      "metadata": {
        "id": "VlwKop43-u3D"
      },
      "source": [
        "**Reflection:** After analyzing by color, how has your view of the data changed? What does each row in your result represent now?"
      ]
    },
    {
      "cell_type": "markdown",
      "metadata": {
        "id": "IzOWls25-u3D"
      },
      "source": [
        "**Your answer:** New grain ="
      ]
    },
    {
      "cell_type": "code",
      "source": [
        "#New Grain= color grade"
      ],
      "metadata": {
        "id": "ydSu3FQeKw3P"
      },
      "execution_count": null,
      "outputs": []
    },
    {
      "cell_type": "markdown",
      "metadata": {
        "id": "029jBDeE-u3D"
      },
      "source": [
        "## Section 3: Advanced Strategic Analysis (10 minutes)\n",
        "\n",
        "The CEO leans forward: \"These next questions will shape our strategy for next year.\""
      ]
    },
    {
      "cell_type": "markdown",
      "metadata": {
        "id": "NL84KB27-u3D"
      },
      "source": [
        "### Question 8: \"We're thinking of specializing in certain clarity grades. For our investor deck, I need a complete breakdown showing: how many diamonds we have in each clarity grade, their typical price, and the total carats we're holding for each grade.\""
      ]
    },
    {
      "cell_type": "code",
      "execution_count": 45,
      "metadata": {
        "colab": {
          "base_uri": "https://localhost:8080/"
        },
        "id": "8XZZALpx-u3D",
        "outputId": "7ef9ebb7-1f05-4265-999f-7300372422b5"
      },
      "outputs": [
        {
          "output_type": "stream",
          "name": "stdout",
          "text": [
            "Clarity grade breakdown:\n",
            "shape: (7, 4)\n",
            "┌─────────┬────────────────┬──────────────┬──────────────┐\n",
            "│ Clarity ┆ diamonds_count ┆ avg_price    ┆ total_carats │\n",
            "│ ---     ┆ ---            ┆ ---          ┆ ---          │\n",
            "│ str     ┆ u32            ┆ f64          ┆ f64          │\n",
            "╞═════════╪════════════════╪══════════════╪══════════════╡\n",
            "│ FL      ┆ 4              ┆ 63776.0      ┆ 7.87         │\n",
            "│ IF      ┆ 219            ┆ 22105.844749 ┆ 316.0        │\n",
            "│ VVS1    ┆ 285            ┆ 16845.680702 ┆ 389.43       │\n",
            "│ VVS2    ┆ 666            ┆ 14142.177177 ┆ 876.58       │\n",
            "│ VS1     ┆ 1192           ┆ 13694.113255 ┆ 1682.74      │\n",
            "│ VS2     ┆ 1575           ┆ 11809.053333 ┆ 2170.81      │\n",
            "│ SI1     ┆ 2059           ┆ 8018.864012  ┆ 2563.69      │\n",
            "└─────────┴────────────────┴──────────────┴──────────────┘\n"
          ]
        },
        {
          "output_type": "stream",
          "name": "stderr",
          "text": [
            "/tmp/ipython-input-1055320017.py:9: DeprecationWarning: `pl.count()` is deprecated. Please use `pl.len()` instead.\n",
            "  pl.count().alias('diamonds_count'),\n"
          ]
        }
      ],
      "source": [
        "# Your code here:\n",
        "clarity_col = \"Clarity\"\n",
        "price_col = \"Price\"\n",
        "carat_col = \"Carat Weight\"\n",
        "\n",
        "clarity_breakdown = (\n",
        "    df.group_by(clarity_col)\n",
        "      .agg([\n",
        "          pl.count().alias('diamonds_count'),\n",
        "          pl.mean(price_col).alias('avg_price'),\n",
        "          pl.sum(carat_col).alias('total_carats')\n",
        "      ])\n",
        "      .sort(\"avg_price\", descending=True))\n",
        "\n",
        "print(\"Clarity grade breakdown:\")\n",
        "print(clarity_breakdown)"
      ]
    },
    {
      "cell_type": "markdown",
      "metadata": {
        "id": "UApPi4T2-u3D"
      },
      "source": [
        "### Question 9: \"My luxury competitor claims they have the best prices for every cut-color combination. Show me our pricing structure across these combinations - I want to see where we're competitive.\""
      ]
    },
    {
      "cell_type": "code",
      "execution_count": 38,
      "metadata": {
        "colab": {
          "base_uri": "https://localhost:8080/"
        },
        "id": "XXSGtlE3-u3D",
        "outputId": "0eb43c3b-4cbf-49c6-c602-c52fc48d22df"
      },
      "outputs": [
        {
          "output_type": "stream",
          "name": "stdout",
          "text": [
            "Pricing structure by cut–color combination:\n",
            "shape: (30, 7)\n",
            "┌───────────┬───────┬───────┬──────────────┬──────────────┬───────────┬───────────┐\n",
            "│ Cut       ┆ Color ┆ count ┆ mean_price   ┆ median_price ┆ min_price ┆ max_price │\n",
            "│ ---       ┆ ---   ┆ ---   ┆ ---          ┆ ---          ┆ ---       ┆ ---       │\n",
            "│ str       ┆ str   ┆ u32   ┆ f64          ┆ f64          ┆ i64       ┆ i64       │\n",
            "╞═══════════╪═══════╪═══════╪══════════════╪══════════════╪═══════════╪═══════════╡\n",
            "│ Fair      ┆ D     ┆ 12    ┆ 6058.25      ┆ 5040.0       ┆ 4105      ┆ 19079     │\n",
            "│ Fair      ┆ E     ┆ 32    ┆ 5370.625     ┆ 4908.5       ┆ 3743      ┆ 12829     │\n",
            "│ Fair      ┆ F     ┆ 24    ┆ 6063.625     ┆ 4628.0       ┆ 2648      ┆ 29368     │\n",
            "│ Fair      ┆ G     ┆ 21    ┆ 7345.52381   ┆ 4646.0       ┆ 2967      ┆ 23203     │\n",
            "│ Fair      ┆ H     ┆ 24    ┆ 5908.5       ┆ 4358.0       ┆ 2594      ┆ 17242     │\n",
            "│ …         ┆ …     ┆ …     ┆ …            ┆ …            ┆ …         ┆ …         │\n",
            "│ Very Good ┆ E     ┆ 323   ┆ 12101.910217 ┆ 6703.0       ┆ 2565      ┆ 67240     │\n",
            "│ Very Good ┆ F     ┆ 455   ┆ 12413.905495 ┆ 8330.0       ┆ 2693      ┆ 54256     │\n",
            "│ Very Good ┆ G     ┆ 578   ┆ 12354.013841 ┆ 8249.0       ┆ 2579      ┆ 44441     │\n",
            "│ Very Good ┆ H     ┆ 424   ┆ 10056.106132 ┆ 6564.0       ┆ 2396      ┆ 35520     │\n",
            "│ Very Good ┆ I     ┆ 383   ┆ 8930.031332  ┆ 6684.0       ┆ 2348      ┆ 28847     │\n",
            "└───────────┴───────┴───────┴──────────────┴──────────────┴───────────┴───────────┘\n"
          ]
        },
        {
          "output_type": "stream",
          "name": "stderr",
          "text": [
            "/tmp/ipython-input-1103936287.py:10: DeprecationWarning: `pl.count()` is deprecated. Please use `pl.len()` instead.\n",
            "  pl.count().alias('count'),\n"
          ]
        }
      ],
      "source": [
        "# Your code here:\n",
        "\n",
        "cut_col = \"Cut\"\n",
        "color_col = \"Color\"\n",
        "price_col = \"Price\"\n",
        "\n",
        "cut_color_prices = (\n",
        "    df.group_by([cut_col, color_col])\n",
        "    .agg([\n",
        "        pl.count().alias('count'),\n",
        "        pl.mean(price_col).alias('mean_price'),\n",
        "        pl.median(price_col).alias('median_price'),\n",
        "        pl.min(price_col).alias('min_price'),\n",
        "        pl.max(price_col).alias('max_price')\n",
        "    ])\n",
        "    .sort([cut_col, color_col])\n",
        ")\n",
        "\n",
        "print(\"Pricing structure by cut–color combination:\")\n",
        "print(cut_color_prices)"
      ]
    },
    {
      "cell_type": "markdown",
      "metadata": {
        "id": "efIrrPgD-u3D"
      },
      "source": [
        "**Reflection:** How specific is your analysis now? What level of detail does each row represent?"
      ]
    },
    {
      "cell_type": "markdown",
      "metadata": {
        "id": "QqY8zR91-u3D"
      },
      "source": [
        "**Your answer:** New grain ="
      ]
    },
    {
      "cell_type": "markdown",
      "metadata": {
        "id": "qqMlK18u-u3D"
      },
      "source": [
        "### Question 10: URGENT - \"Our biggest client is interested in purchasing entire inventory segments. They asked: 'Which color-cut combinations represent your highest total inventory value?' Show me the top 5 most valuable inventory segments by total worth, and include how many diamonds are in each segment.\"\n",
        "\n",
        "This is critical for tomorrow's negotiation."
      ]
    },
    {
      "cell_type": "code",
      "execution_count": 41,
      "metadata": {
        "colab": {
          "base_uri": "https://localhost:8080/"
        },
        "id": "5V2BCNgi-u3D",
        "outputId": "eb381d62-67ef-4c56-dcba-5f117bce689e"
      },
      "outputs": [
        {
          "output_type": "stream",
          "name": "stdout",
          "text": [
            "Top 5 most valuable inventory segments:\n",
            "shape: (5, 4)\n",
            "┌───────┬───────────┬────────────────┬─────────────┐\n",
            "│ Color ┆ Cut       ┆ diamonds_count ┆ total_value │\n",
            "│ ---   ┆ ---       ┆ ---            ┆ ---         │\n",
            "│ str   ┆ str       ┆ u32            ┆ i64         │\n",
            "╞═══════╪═══════════╪════════════════╪═════════════╡\n",
            "│ G     ┆ Ideal     ┆ 690            ┆ 9363514     │\n",
            "│ G     ┆ Very Good ┆ 578            ┆ 7140620     │\n",
            "│ F     ┆ Very Good ┆ 455            ┆ 5648327     │\n",
            "│ F     ┆ Ideal     ┆ 363            ┆ 5346782     │\n",
            "│ H     ┆ Ideal     ┆ 458            ┆ 5279687     │\n",
            "└───────┴───────────┴────────────────┴─────────────┘\n"
          ]
        },
        {
          "output_type": "stream",
          "name": "stderr",
          "text": [
            "/tmp/ipython-input-1638533166.py:9: DeprecationWarning: `pl.count()` is deprecated. Please use `pl.len()` instead.\n",
            "  pl.count().alias('diamonds_count'),\n"
          ]
        }
      ],
      "source": [
        "# Your code\n",
        "cut_col = \"Cut\"\n",
        "color_col = \"Color\"\n",
        "price_col = \"Price\"\n",
        "\n",
        "value_by_segment = (\n",
        "    df.group_by([color_col, cut_col])\n",
        "      .agg([\n",
        "          pl.count().alias('diamonds_count'),\n",
        "          pl.sum(price_col).alias('total_value')\n",
        "      ])\n",
        "      .sort(\"total_value\", descending=True)\n",
        ")\n",
        "\n",
        "\n",
        "top5_segments = value_by_segment.head(5)\n",
        "\n",
        "print(\"Top 5 most valuable inventory segments:\")\n",
        "print(top5_segments)"
      ]
    },
    {
      "cell_type": "markdown",
      "metadata": {
        "id": "dnzXpjbG-u3E"
      },
      "source": [
        "## Debrief\n",
        "\n",
        "Congratulations! You've just completed your first day as the diamond company's data analyst.\n",
        "\n",
        "Remember:\n",
        "- CEOs speak in business language, not technical terms\n",
        "- Always understand what each row represents before analyzing\n",
        "- Business questions contain clues about which operations to use"
      ]
    }
  ],
  "metadata": {
    "kernelspec": {
      "display_name": "Python 3",
      "language": "python",
      "name": "python3"
    },
    "language_info": {
      "codemirror_mode": {
        "name": "ipython",
        "version": 3
      },
      "file_extension": ".py",
      "mimetype": "text/x-python",
      "name": "python",
      "nbconvert_exporter": "python",
      "pygments_lexer": "ipython3",
      "version": "3.12.0"
    },
    "colab": {
      "provenance": []
    }
  },
  "nbformat": 4,
  "nbformat_minor": 0
}